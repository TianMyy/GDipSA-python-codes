{
 "cells": [
  {
   "cell_type": "markdown",
   "metadata": {},
   "source": [
    "# Exercise 2 Numpy"
   ]
  },
  {
   "cell_type": "raw",
   "metadata": {},
   "source": [
    "1) Import numpy package"
   ]
  },
  {
   "cell_type": "code",
   "execution_count": 2,
   "metadata": {},
   "outputs": [],
   "source": [
    "import numpy as np"
   ]
  },
  {
   "cell_type": "raw",
   "metadata": {},
   "source": [
    "2) Create a list of size 10 with all zeros"
   ]
  },
  {
   "cell_type": "code",
   "execution_count": 3,
   "metadata": {},
   "outputs": [],
   "source": [
    "x = np.zeros(10)\n",
    "print(x)"
   ]
  },
  {
   "cell_type": "markdown",
   "metadata": {},
   "source": [
    "3) Assume you are working on Jupyter Notebook\n",
    "   How to you get documentation of numpy multiply fuction?"
   ]
  },
  {
   "cell_type": "code",
   "execution_count": null,
   "metadata": {},
   "outputs": [],
   "source": []
  },
  {
   "cell_type": "markdown",
   "metadata": {},
   "source": [
    "4) Create a 3 X 3 Matrix with values ranging from 0 to 8"
   ]
  },
  {
   "cell_type": "code",
   "execution_count": 6,
   "metadata": {},
   "outputs": [
    {
     "name": "stdout",
     "output_type": "stream",
     "text": [
      "[[0 1 2]\n",
      " [3 4 5]\n",
      " [6 7 8]]\n"
     ]
    }
   ],
   "source": [
    "arr = np.arange(9).reshape(3,3)\n",
    "print(arr)"
   ]
  },
  {
   "cell_type": "markdown",
   "metadata": {},
   "source": [
    "5) Create a 3 X 3 X 3 array with random values "
   ]
  },
  {
   "cell_type": "code",
   "execution_count": 8,
   "metadata": {},
   "outputs": [
    {
     "name": "stdout",
     "output_type": "stream",
     "text": [
      "[[[0.16766299 0.59147542 0.16010117]\n",
      "  [0.62406939 0.59298478 0.81996297]\n",
      "  [0.59672063 0.34141181 0.02956167]]\n",
      "\n",
      " [[0.64320722 0.27450265 0.2879513 ]\n",
      "  [0.04938694 0.30133356 0.90552306]\n",
      "  [0.37315379 0.78322749 0.34071368]]\n",
      "\n",
      " [[0.09036115 0.07928236 0.19530203]\n",
      "  [0.91132875 0.11556548 0.4872343 ]\n",
      "  [0.02855677 0.70037818 0.44210931]]]\n"
     ]
    }
   ],
   "source": [
    "arr2 = np.random.random((3,3,3))\n",
    "print(arr2)"
   ]
  },
  {
   "cell_type": "markdown",
   "metadata": {},
   "source": [
    "6) Create a 5 X 5 array with random values.  Find the minimum and maximum values."
   ]
  },
  {
   "cell_type": "code",
   "execution_count": 19,
   "metadata": {},
   "outputs": [
    {
     "name": "stdout",
     "output_type": "stream",
     "text": [
      "Original Array:\n",
      "[[0.9308151  0.99770007 0.44171273 0.18336957 0.55266911]\n",
      " [0.10402149 0.66163299 0.72919196 0.12276551 0.4953895 ]\n",
      " [0.04399902 0.52803317 0.06654164 0.81851453 0.55167547]\n",
      " [0.61797935 0.97144034 0.33892814 0.57497081 0.68542545]\n",
      " [0.148136   0.22189219 0.61012893 0.16035901 0.449919  ]]\n",
      "Minimum and maximum values:\n",
      "0.043999016811852254 0.9977000748984973\n"
     ]
    }
   ],
   "source": [
    "arr3 = np.random.random((5,5))\n",
    "print(\"Original Array:\")\n",
    "print(arr3)\n",
    "print(\"Minimum and maximum values:\")\n",
    "print(arr3.min(),arr3.max())"
   ]
  },
  {
   "cell_type": "markdown",
   "metadata": {},
   "source": [
    "7) Create an array of 10 random values.  Rearrange the arrange in order."
   ]
  },
  {
   "cell_type": "code",
   "execution_count": 20,
   "metadata": {},
   "outputs": [
    {
     "name": "stdout",
     "output_type": "stream",
     "text": [
      "[0.18184385 0.2604845  0.31363885 0.62152316 0.62306374 0.66990399\n",
      " 0.71463069 0.87013486 0.90067582 0.94900376]\n"
     ]
    }
   ],
   "source": [
    "arr4 = np.random.random(10)\n",
    "print(np.sort(arr4))"
   ]
  },
  {
   "cell_type": "markdown",
   "metadata": {},
   "source": [
    "8) Create an array of 10 random values.  Get the sum and average value of the elements."
   ]
  },
  {
   "cell_type": "code",
   "execution_count": 18,
   "metadata": {},
   "outputs": [
    {
     "name": "stdout",
     "output_type": "stream",
     "text": [
      "Original Array:\n",
      "[0.47076109 0.96107599 0.86154447 0.90248338 0.12812451 0.05956647\n",
      " 0.26294577 0.99080013 0.71041734 0.81641455]\n",
      "Sum of array: 6.16413369851126\n",
      "Average of array: 0.616413369851126\n"
     ]
    }
   ],
   "source": [
    "arr5 = np.random.random(10)\n",
    "print(\"Original Array:\")\n",
    "print(arr5)\n",
    "\n",
    "print(\"Sum of array:\",np.sum(arr5))\n",
    "print(\"Average of array:\",np.average(arr5))"
   ]
  }
 ],
 "metadata": {
  "kernelspec": {
   "display_name": "Python 3",
   "language": "python",
   "name": "python3"
  },
  "language_info": {
   "codemirror_mode": {
    "name": "ipython",
    "version": 3
   },
   "file_extension": ".py",
   "mimetype": "text/x-python",
   "name": "python",
   "nbconvert_exporter": "python",
   "pygments_lexer": "ipython3",
   "version": "3.8.3"
  }
 },
 "nbformat": 4,
 "nbformat_minor": 2
}
