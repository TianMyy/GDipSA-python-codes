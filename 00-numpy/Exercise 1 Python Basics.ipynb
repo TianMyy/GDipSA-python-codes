{
 "cells": [
  {
   "cell_type": "markdown",
   "metadata": {},
   "source": [
    "# Exercise 1 Python Basics"
   ]
  },
  {
   "cell_type": "markdown",
   "metadata": {},
   "source": [
    "## Exercise 1\n",
    "\n",
    "Write a program to prompt the user for hours and rate per hour to compute gross pay.Take into account that the factory gives the employee 1.5 times the hourly rate for hours worked above 40 hours.\n",
    "\n",
    "Enter Hours: 45 Rate: 10 Pay: 475.0"
   ]
  },
  {
   "cell_type": "code",
   "execution_count": 40,
   "metadata": {},
   "outputs": [
    {
     "name": "stdout",
     "output_type": "stream",
     "text": [
      "Enter Hours:45\n",
      "Rate:10\n",
      "Hour:45,Rate:10,Pay:475.0\n"
     ]
    }
   ],
   "source": [
    "hour = int(input(\"Enter Hours:\"))\n",
    "rate = int(input(\"Rate:\"))\n",
    "def compute():\n",
    "    if hour < 40:\n",
    "        return int(hour) * float(rate)\n",
    "    else:\n",
    "        return float(rate) * 40 + float(rate) * 1.5 * int(hour - 40)\n",
    "\n",
    "pay = compute()\n",
    "print(\"Hour:{0},Rate:{1},Pay:{2}\".format(hour,rate,pay))\n",
    "\n",
    "#     rate = int(input('Rate: '))\n",
    "#     if hours > 40:\n",
    "#        pay = 1.5 * int(hours) * float(rate)\n",
    "#     else:\n",
    "#         pay = int(hours) * float(rate)\n",
    "#     print('Pay: {0}'.format(pay))\n",
    "#     return\n",
    "\n",
    "# try: \n",
    "#     compute_gross_pay()\n",
    "# except:\n",
    "#     print(\"Error processing your input\")"
   ]
  },
  {
   "cell_type": "markdown",
   "metadata": {},
   "source": [
    "## Exercise 2\n",
    "Write a program to prompt for a score between 0.0 and 1.0. If the core is out of range print an error. If the score is between 0.0 and 1.0, print a grade using the following table:\n",
    "\n",
    "Score Grade\n",
    "* \\>= 0.9 A\n",
    "* \\>= 0.8 B\n",
    "* \\>= 0.7 C\n",
    "* \\>= 0.6 D\n",
    "* \\< 0.6 F"
   ]
  },
  {
   "cell_type": "code",
   "execution_count": 30,
   "metadata": {},
   "outputs": [
    {
     "name": "stdout",
     "output_type": "stream",
     "text": [
      "Enter your score between 0.0 and 1.0:0.9\n",
      "Your score 0.9 grade A\n"
     ]
    }
   ],
   "source": [
    "score = float(input(\"Enter your score between 0.0 and 1.0:\"))\n",
    "\n",
    "def grade():\n",
    "    if score < 0.0 or score > 1.0:\n",
    "        return \"**Error**\"\n",
    "    else:\n",
    "        if score >= 0.9:\n",
    "            return \"A\"\n",
    "        elif score >= 0.8:\n",
    "            return \"B\"\n",
    "        elif score >= 0.7:\n",
    "            return \"C\"\n",
    "        elif score >= 0.6:\n",
    "            return \"D\"\n",
    "        else:\n",
    "            return \"F\"\n",
    "    \n",
    "grade = grade()\n",
    "print(\"Your score {0} grade {1}\".format(score,grade))"
   ]
  },
  {
   "cell_type": "markdown",
   "metadata": {},
   "source": [
    "## Exercise 3\n",
    "\n",
    "Write a shutting down program:\n",
    "\n",
    "First, def a function, shut_down, that takes one argument s. \n",
    "\n",
    "Then, if the shut_down function receives an s equal to \"yes\", it should return \"Shutting down\" \n",
    "\n",
    "Alternatively, elif s is equal to \"no\", then the function should return \"Shutdown aborted\". \n",
    "\n",
    "Finally, if shut_down gets anything other than those inputs, the function should return \"Sorry\"."
   ]
  },
  {
   "cell_type": "code",
   "execution_count": 38,
   "metadata": {},
   "outputs": [
    {
     "name": "stdout",
     "output_type": "stream",
     "text": [
      "Shutting down\n",
      "Shutdown aborted\n",
      "Sorry\n"
     ]
    }
   ],
   "source": [
    "def shut_down(s):\n",
    "    if s == \"yes\":\n",
    "        return \"Shutting down\"\n",
    "    elif s == \"no\":\n",
    "        return \"Shutdown aborted\"\n",
    "    else:\n",
    "        return \"Sorry\"\n",
    "\n",
    "print(shut_down('yes'))\n",
    "print(shut_down('no'))\n",
    "print(shut_down('others'))"
   ]
  },
  {
   "cell_type": "markdown",
   "metadata": {},
   "source": [
    "## Exercise 4\n",
    "\n",
    "Write a function that accepts a sentence and capitalize the first letter of each words in the string. You can use split() method to split the sentence into its words"
   ]
  },
  {
   "cell_type": "code",
   "execution_count": 37,
   "metadata": {},
   "outputs": [
    {
     "name": "stdout",
     "output_type": "stream",
     "text": [
      "Enter your sentence:to be or not to be\n",
      "To Be Or Not To Be\n"
     ]
    }
   ],
   "source": [
    "def capitalize(s):\n",
    "    words = s.split()\n",
    "    new_sentence = ''\n",
    "    for word in words:\n",
    "        new_sentence = new_sentence + word[0].upper() + word[1:] + ' '\n",
    "    return new_sentence.strip()\n",
    "\n",
    "sentence = input(\"Enter your sentence:\")\n",
    "print(capitalize(sentence))"
   ]
  },
  {
   "cell_type": "markdown",
   "metadata": {},
   "source": [
    "## Exercise 5\n",
    "\n",
    "Implement a number guessing game. You can generate a random number using the following code:\n",
    "\n",
    "import random\n",
    "  print random.randint(1,101)"
   ]
  },
  {
   "cell_type": "code",
   "execution_count": 36,
   "metadata": {},
   "outputs": [
    {
     "name": "stdout",
     "output_type": "stream",
     "text": [
      "Enter your guess number between 1 and 101:40\n",
      "Your guess is too low!\n",
      "Enter your guess number between 1 and 101:60\n",
      "Your guess is too low!\n",
      "Enter your guess number between 1 and 101:80\n",
      "Your guess is too high\n",
      "Enter your guess number between 1 and 101:70\n",
      "Your guess is too low!\n",
      "Enter your guess number between 1 and 101:75\n",
      "Your guess is too low!\n",
      "Enter your guess number between 1 and 101:78\n",
      "Your guess is too high\n",
      "Enter your guess number between 1 and 101:77\n",
      "Your guess is too high\n",
      "Enter your guess number between 1 and 101:76\n",
      "Congratulations you did it in  8  try\n"
     ]
    }
   ],
   "source": [
    "import random\n",
    "correct = (random.randint(1,101))\n",
    "\n",
    "count = 0\n",
    "while count < 100:\n",
    "    count += 1\n",
    "    guess = int(input(\"Enter your guess number between 1 and 101:\"))\n",
    "    if correct == guess:  \n",
    "       print(\"Congratulations you did it in \", count, \" try\")\n",
    "       break\n",
    "    elif correct > guess:\n",
    "       print(\"Your guess is too low!\")\n",
    "    elif correct < guess:\n",
    "       print(\"Your guess is too high\")\n",
    "\n",
    "if count >= 100:\n",
    "   print(\"\\nThe number is %d\"%correct)\n",
    "   print(\"\\tBetter Luck Next time!\")\n",
    "    \n",
    "# guessed = False\n",
    "\n",
    "# while (not(guessed)):\n",
    "#     guess = int(input('Enter your guess: '))\n",
    "#     if guess==secret:\n",
    "#         guessed = True\n",
    "#         print('You are correct!')\n",
    "#     else:\n",
    "#         print('Try again')"
   ]
  },
  {
   "cell_type": "markdown",
   "metadata": {},
   "source": [
    "## Exercise 6\n",
    "\n",
    "Write a function that calculate factorial based on a positive integer input. 3! is 3 x 2 x 1 = 6. "
   ]
  },
  {
   "cell_type": "code",
   "execution_count": 32,
   "metadata": {},
   "outputs": [
    {
     "name": "stdout",
     "output_type": "stream",
     "text": [
      "Enter your integer: 5\n",
      "Your number 5, factorial is 120\n"
     ]
    }
   ],
   "source": [
    "def fact(n):\n",
    "     if n < 1:\n",
    "        return \"Factorial not defined for values less than 1\"\n",
    "     elif n < 2:\n",
    "        return 1\n",
    "     else:\n",
    "        return n * fact(n -1)\n",
    "\n",
    "num = int(input(\"Enter your integer: \"))\n",
    "outcome = fact(num)\n",
    "print(\"Your number {0}, factorial is {1}\".format(num,outcome))"
   ]
  },
  {
   "cell_type": "markdown",
   "metadata": {},
   "source": [
    "## Exercise 7\n",
    "Follow the steps:\n",
    "\n",
    "1. Create a class, Triangle. Its __init__() method should take self, angle1, angle2, and angle3 as arguments. Make sure to set these appropriately in the body of the __init__()method.\n",
    "2. Create a variable named number_of_sides and set it equal to 3.\n",
    "3. Create a method named check_angles. The sum of a triangle's three angles is It should return True if the sum of self.angle1, self.angle2, and self.angle3 is equal 180, and False otherwise.\n",
    "4. Create a variable named my_triangle and set it equal to a new instance of your Triangle class. Pass it three angles that sum to 180 (e.g. 90, 30, 60).\n",
    "5. Print out my_triangle.number_of_sides and print out my_triangle.check_angles().\n"
   ]
  },
  {
   "cell_type": "code",
   "execution_count": 31,
   "metadata": {},
   "outputs": [
    {
     "name": "stdout",
     "output_type": "stream",
     "text": [
      "number of sides:3,check result:False\n",
      "number of sides:3,check result:True\n"
     ]
    }
   ],
   "source": [
    "class Triangle:\n",
    "    def __init__(self,angle1,angle2,angle3):\n",
    "        self.angle1 = angle1\n",
    "        self.angle2 = angle2\n",
    "        self.angle3 = angle3\n",
    "        \n",
    "    number_of_sides = 3\n",
    "    \n",
    "    def check_angles(self):\n",
    "        if self.angle1 + self.angle2 + self.angle3 == 180:\n",
    "            return True\n",
    "        else:\n",
    "            return False\n",
    "        \n",
    "my_triangle1 = Triangle(10,20,30)      \n",
    "print(\"number of sides:{0},check result:{1}\".format(my_triangle1.number_of_sides,my_triangle1.check_angles()))\n",
    "my_triangle2 = Triangle(90,30,60)\n",
    "print(\"number of sides:{0},check result:{1}\".format(my_triangle2.number_of_sides,my_triangle2.check_angles()))\n"
   ]
  },
  {
   "cell_type": "markdown",
   "metadata": {},
   "source": [
    "## Exercise 8\n",
    "\n",
    "Define a list and populate it with integer numbers from 1-10.\n",
    "\n",
    "Write a loop that count the content of the list and store the information in a dictionary\n",
    "\n",
    "For example, if the list is \\[1, 3, 3, 1, 2] then the dictionary should contain\n",
    "{ 1: 2, 2: 1, 3: 2}"
   ]
  },
  {
   "cell_type": "code",
   "execution_count": 28,
   "metadata": {},
   "outputs": [
    {
     "name": "stdout",
     "output_type": "stream",
     "text": [
      "{2: 3, 4: 1, 6: 2, 8: 1, 3: 1}\n"
     ]
    }
   ],
   "source": [
    "array = [2,4,6,8,3,2,2,6]\n",
    "#from collections import Counter\n",
    "#Counter(array)\n",
    "\n",
    "m = {}\n",
    "\n",
    "for n in array:\n",
    "    if n in m:\n",
    "        m[n] = m[n]+1\n",
    "    else:\n",
    "        m[n] = 1\n",
    "        \n",
    "print(m)"
   ]
  },
  {
   "cell_type": "markdown",
   "metadata": {},
   "source": [
    "# Exercise 9\n",
    "\n",
    "The Fibonacci Sequence number: \n",
    "\n",
    "    0, 1, 1, 2, 3, 5, 8, 13, 21, 34 ....\n",
    "\n",
    "It starts from 0, and each subsesquent value is the sum of two previous values\n",
    "     \n",
    "Write a recursive function to generate a fibonacci sequence number based on the required number of elements.\n",
    "\n",
    "Example: \n",
    "            \n",
    "         fib(0) returns 0 \n",
    "\n",
    "         fib(1) returns 1 \n",
    "         \n",
    "         fib(2) returns 1 \n",
    "         \n",
    "         fib(3) returns 2 "
   ]
  },
  {
   "cell_type": "code",
   "execution_count": 27,
   "metadata": {},
   "outputs": [
    {
     "name": "stdout",
     "output_type": "stream",
     "text": [
      "enter how many elements you want:10\n",
      "0\n",
      "1\n",
      "1\n",
      "2\n",
      "3\n",
      "5\n",
      "8\n",
      "13\n",
      "21\n",
      "34\n"
     ]
    }
   ],
   "source": [
    "def fibonacci(n):\n",
    "    assert n >= 0, \"Fibonacci not defined for n less than 1\"  \n",
    "    if n < 2:\n",
    "        return n\n",
    "    elif n >= 2:\n",
    "        return fibonacci(n-1) + fibonacci(n-2)\n",
    "\n",
    "num = int(input(\"enter how many elements you want:\"))\n",
    "for n in range(10):\n",
    "    print(fibonacci(n))"
   ]
  },
  {
   "cell_type": "markdown",
   "metadata": {},
   "source": [
    "# Exercise 10\n",
    "\n",
    "Write a recursive function that will reverse a string.  \n",
    "\n",
    "For example, a string \"Hello\" will become \"olleH\".\n",
    "\n"
   ]
  },
  {
   "cell_type": "code",
   "execution_count": 26,
   "metadata": {},
   "outputs": [
    {
     "name": "stdout",
     "output_type": "stream",
     "text": [
      "Enter your string: hello world\n",
      "dlrow olleh\n"
     ]
    }
   ],
   "source": [
    "def reverse(x):\n",
    "    if len(string) == 0:\n",
    "        return ''\n",
    "    else:\n",
    "        return x[::-1]\n",
    "    \n",
    "string = input(\"Enter your string: \")\n",
    "print(reverse(string))"
   ]
  },
  {
   "cell_type": "markdown",
   "metadata": {},
   "source": [
    "# Exercise 11\n",
    "Produce a 3D array with the following values\n",
    "[[1, 1, 1], [1, 2, 4], [1, 3, 9], [1, 4, 16], [1, 5, 25], [1, 6, 36], [1, 7, 49], [1, 8, 64], [1, 9, 81], [1, 10, 100]]"
   ]
  },
  {
   "cell_type": "code",
   "execution_count": 24,
   "metadata": {},
   "outputs": [
    {
     "name": "stdout",
     "output_type": "stream",
     "text": [
      "[[1, 1, 1], [1, 2, 4], [1, 3, 9], [1, 4, 16], [1, 5, 25], [1, 6, 36], [1, 7, 49], [1, 8, 64], [1, 9, 81], [1, 10, 100]]\n"
     ]
    }
   ],
   "source": [
    "rows = 10\n",
    "cols = 3\n",
    "\n",
    "x = [[(i + 1) ** j for j in range(cols)] \n",
    "         for i in range(rows)]\n",
    "print(x)"
   ]
  },
  {
   "cell_type": "code",
   "execution_count": 25,
   "metadata": {},
   "outputs": [
    {
     "name": "stdout",
     "output_type": "stream",
     "text": [
      "[2, 3, 3]\n"
     ]
    }
   ],
   "source": [
    "d = [3,2,3]\n",
    "d.sort()\n",
    "print(d)"
   ]
  },
  {
   "cell_type": "markdown",
   "metadata": {},
   "source": [
    "# Exercise 12\n",
    "Create a list with the following values 5, 6, 4, 7, 10 <br>\n",
    "Answer the following questions. <br>\n",
    "a) Sort the array. (Use the sort method) <br>\n",
    "b) Access the 4th element of the sorted array. <br>\n",
    "c) Reverse the order of the array. (Use the reverse method) <br>\n",
    "d) Remove the value 6 from the array. <br>\n",
    "e) Delete the third element. <br>\n",
    "f) Delete the first two elements <br>"
   ]
  },
  {
   "cell_type": "code",
   "execution_count": 23,
   "metadata": {},
   "outputs": [
    {
     "name": "stdout",
     "output_type": "stream",
     "text": [
      "[4, 5, 6, 7, 10]\n",
      "7\n",
      "[10, 7, 6, 5, 4]\n",
      "[10, 7, 5, 4]\n",
      "[ 4  5 10]\n",
      "[4]\n"
     ]
    }
   ],
   "source": [
    "arr = [5, 6, 4, 7, 10]\n",
    "#--a\n",
    "arr.sort()\n",
    "print(arr)\n",
    "\n",
    "#--b\n",
    "print(arr[3])\n",
    "\n",
    "#--c\n",
    "arr.reverse()\n",
    "print(arr)\n",
    "\n",
    "#--d\n",
    "arr.remove(6)\n",
    "print(arr)\n",
    "\n",
    "#--e\n",
    "del arr[2]\n",
    "print(arr4)\n",
    "\n",
    "#--f\n",
    "del arr[0:2]\n",
    "print(arr)"
   ]
  }
 ],
 "metadata": {
  "kernelspec": {
   "display_name": "Python 3",
   "language": "python",
   "name": "python3"
  },
  "language_info": {
   "codemirror_mode": {
    "name": "ipython",
    "version": 3
   },
   "file_extension": ".py",
   "mimetype": "text/x-python",
   "name": "python",
   "nbconvert_exporter": "python",
   "pygments_lexer": "ipython3",
   "version": "3.8.3"
  }
 },
 "nbformat": 4,
 "nbformat_minor": 2
}
