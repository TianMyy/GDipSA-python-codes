{
 "cells": [
  {
   "cell_type": "code",
   "execution_count": 1,
   "metadata": {},
   "outputs": [],
   "source": [
    "import numpy as np"
   ]
  },
  {
   "cell_type": "markdown",
   "metadata": {},
   "source": [
    "#### numpy创建数组"
   ]
  },
  {
   "cell_type": "code",
   "execution_count": 2,
   "metadata": {},
   "outputs": [
    {
     "name": "stdout",
     "output_type": "stream",
     "text": [
      "[1 2 3]\n",
      "<class 'numpy.ndarray'>\n",
      "[0 1 2 3 4 5 6 7 8 9]\n"
     ]
    }
   ],
   "source": [
    "t1 = np.array([1,2,3,])\n",
    "print(t1)\n",
    "print(type(t1))\n",
    "\n",
    "t2 = np.array(range(10))\n",
    "print(t2)"
   ]
  },
  {
   "cell_type": "markdown",
   "metadata": {},
   "source": [
    "#### 最快的生成数组的方法"
   ]
  },
  {
   "cell_type": "code",
   "execution_count": 3,
   "metadata": {},
   "outputs": [
    {
     "name": "stdout",
     "output_type": "stream",
     "text": [
      "[4 6 8]\n",
      "<class 'numpy.ndarray'>\n",
      "int32\n",
      "[1. 2. 3.]\n",
      "float64\n"
     ]
    }
   ],
   "source": [
    "t3 = np.arange(4,10,2)\n",
    "print(t3)\n",
    "print(type(t3))\n",
    "\n",
    "print(t3.dtype)\n",
    "\n",
    "t4 = np.array(range(1,4),dtype=float)\n",
    "print(t4)\n",
    "print(t4.dtype)"
   ]
  },
  {
   "cell_type": "markdown",
   "metadata": {},
   "source": [
    "#### 调整数据类型"
   ]
  },
  {
   "cell_type": "code",
   "execution_count": 4,
   "metadata": {},
   "outputs": [
    {
     "name": "stdout",
     "output_type": "stream",
     "text": [
      "[ True  True False  True False False]\n",
      "bool\n",
      "[1 1 0 1 0 0]\n",
      "int8\n"
     ]
    }
   ],
   "source": [
    "t5 = np.array([1,1,0,1,0,0],dtype=bool)\n",
    "print(t5)\n",
    "print(t5.dtype)\n",
    "\n",
    "t6 = t5.astype(\"int8\")\n",
    "print(t6)\n",
    "print(t6.dtype)"
   ]
  },
  {
   "cell_type": "markdown",
   "metadata": {},
   "source": [
    "#### numpy中的小数"
   ]
  },
  {
   "cell_type": "code",
   "execution_count": 5,
   "metadata": {},
   "outputs": [
    {
     "name": "stdout",
     "output_type": "stream",
     "text": [
      "[0.26059192 0.02632966 0.65324137 0.15704784 0.57648913 0.05655944\n",
      " 0.94252484 0.84710891 0.31738384 0.76164447]\n",
      "float64\n",
      "[0.26 0.03 0.65 0.16 0.58 0.06 0.94 0.85 0.32 0.76]\n"
     ]
    }
   ],
   "source": [
    "import random\n",
    "t7 = np.array([random.random() for i in range(10)])\n",
    "print(t7)\n",
    "print(t7.dtype)\n",
    "\n",
    "t8 = np.round(t7,2)\n",
    "print(t8)"
   ]
  },
  {
   "cell_type": "markdown",
   "metadata": {},
   "source": [
    "#### 数组的形状"
   ]
  },
  {
   "cell_type": "code",
   "execution_count": 6,
   "metadata": {},
   "outputs": [
    {
     "name": "stdout",
     "output_type": "stream",
     "text": [
      "--a)\n",
      "[[ 0  1  2  3]\n",
      " [ 4  5  6  7]\n",
      " [ 8  9 10 11]]\n",
      "--b)\n",
      "[[[ 0  1  2  3]\n",
      "  [ 4  5  6  7]\n",
      "  [ 8  9 10 11]]\n",
      "\n",
      " [[12 13 14 15]\n",
      "  [16 17 18 19]\n",
      "  [20 21 22 23]]]\n",
      "--c)\n",
      "[[ 0  1  2  3  4  5]\n",
      " [ 6  7  8  9 10 11]\n",
      " [12 13 14 15 16 17]\n",
      " [18 19 20 21 22 23]]\n",
      "--d)\n",
      "[ 0  1  2  3  4  5  6  7  8  9 10 11 12 13 14 15 16 17 18 19 20 21 22 23]\n",
      "--e)\n",
      "[ 0  1  2  3  4  5  6  7  8  9 10 11 12 13 14 15 16 17 18 19 20 21 22 23]\n",
      "--f)\n",
      "[[ 2  3  4  5  6  7]\n",
      " [ 8  9 10 11 12 13]\n",
      " [14 15 16 17 18 19]\n",
      " [20 21 22 23 24 25]]\n",
      "[[ 0  2  4  6  8 10]\n",
      " [12 14 16 18 20 22]\n",
      " [24 26 28 30 32 34]\n",
      " [36 38 40 42 44 46]]\n",
      "[[ 0.   0.5  1.   1.5  2.   2.5]\n",
      " [ 3.   3.5  4.   4.5  5.   5.5]\n",
      " [ 6.   6.5  7.   7.5  8.   8.5]\n",
      " [ 9.   9.5 10.  10.5 11.  11.5]]\n",
      "--g)\n",
      "[[100 101 102 103 104 105]\n",
      " [106 107 108 109 110 111]\n",
      " [112 113 114 115 116 117]\n",
      " [118 119 120 121 122 123]]\n",
      "[[100 102 104 106 108 110]\n",
      " [112 114 116 118 120 122]\n",
      " [124 126 128 130 132 134]\n",
      " [136 138 140 142 144 146]]\n",
      "[[   0  101  204  309  416  525]\n",
      " [ 636  749  864  981 1100 1221]\n",
      " [1344 1469 1596 1725 1856 1989]\n",
      " [2124 2261 2400 2541 2684 2829]]\n",
      "--h)\n",
      "[[ 0  0  0  0  0  0]\n",
      " [ 6  6  6  6  6  6]\n",
      " [12 12 12 12 12 12]\n",
      " [18 18 18 18 18 18]]\n",
      "[[ 0  1  2  3  4  5]\n",
      " [ 5  6  7  8  9 10]\n",
      " [10 11 12 13 14 15]\n",
      " [15 16 17 18 19 20]]\n"
     ]
    }
   ],
   "source": [
    "m1 = np.arange(12)\n",
    "print(\"--a)\")\n",
    "print(m1.reshape((3,4)))\n",
    "\n",
    "m2 = np.arange(24).reshape((2,3,4))\n",
    "print(\"--b)\")\n",
    "print(m2)\n",
    "\n",
    "m3 = m2.reshape((4,6))\n",
    "print(\"--c)\")\n",
    "print(m3)\n",
    "\n",
    "print(\"--d)\")\n",
    "print(m3.reshape((24,)))\n",
    "\n",
    "# m3 = m2.reshape((m2.shape[0] * m2.shape[1],))\n",
    "# print(m3)\n",
    "\n",
    "print(\"--e)\")\n",
    "print(m2.flatten())\n",
    "\n",
    "print(\"--f)\")\n",
    "print(m3 + 2)\n",
    "print(m3 * 2)\n",
    "print(m3 / 2)\n",
    "\n",
    "print(\"--g)\")\n",
    "m4 = np.arange(100,124).reshape((4,6))\n",
    "print(m4)\n",
    "print(m4 + m3)\n",
    "print(m4 * m3)\n",
    "\n",
    "print(\"--h)\")\n",
    "m5 = np.arange(0,6)\n",
    "print(m3 - m5)\n",
    "m6 = np.arange(4).reshape((4,1))\n",
    "print(m3 - m6)"
   ]
  },
  {
   "cell_type": "code",
   "execution_count": null,
   "metadata": {},
   "outputs": [],
   "source": []
  }
 ],
 "metadata": {
  "kernelspec": {
   "display_name": "Python 3",
   "language": "python",
   "name": "python3"
  },
  "language_info": {
   "codemirror_mode": {
    "name": "ipython",
    "version": 3
   },
   "file_extension": ".py",
   "mimetype": "text/x-python",
   "name": "python",
   "nbconvert_exporter": "python",
   "pygments_lexer": "ipython3",
   "version": "3.8.3"
  }
 },
 "nbformat": 4,
 "nbformat_minor": 4
}
