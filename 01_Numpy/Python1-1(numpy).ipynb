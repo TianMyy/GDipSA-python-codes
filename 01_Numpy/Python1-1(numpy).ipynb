{
 "cells": [
  {
   "cell_type": "code",
   "execution_count": 1,
   "metadata": {},
   "outputs": [
    {
     "name": "stdout",
     "output_type": "stream",
     "text": [
      "{1, 2, 3, 4}\n"
     ]
    }
   ],
   "source": [
    "print({1,2,3} | {2,3,4})"
   ]
  },
  {
   "cell_type": "code",
   "execution_count": 3,
   "metadata": {},
   "outputs": [
    {
     "name": "stdout",
     "output_type": "stream",
     "text": [
      "6\n"
     ]
    }
   ],
   "source": [
    "map_1 = {'r1':5,'r2':6,'r3':'charlie','r4':None}\n",
    "print(map_1['r2'])"
   ]
  },
  {
   "cell_type": "code",
   "execution_count": 13,
   "metadata": {},
   "outputs": [
    {
     "name": "stdin",
     "output_type": "stream",
     "text": [
      "Enterhour in 24-hour format: 19\n"
     ]
    },
    {
     "name": "stdout",
     "output_type": "stream",
     "text": [
      "Invalid input\n",
      "end of else\n",
      "End  of everything\n"
     ]
    }
   ],
   "source": [
    "hour = int(input(\"Enterhour in 24-hour format:\"))\n",
    "if hour < 12:\n",
    "    print(\"Good morning\")\n",
    "elif(hour < 18):\n",
    "    print(\"Good afternoon\")\n",
    "else:\n",
    "    print(\"Invalid input\")\n",
    "    print(\"end of else\")\n",
    "    \n",
    "print(\"End  of everything\")"
   ]
  },
  {
   "cell_type": "code",
   "execution_count": 12,
   "metadata": {},
   "outputs": [
    {
     "name": "stdout",
     "output_type": "stream",
     "text": [
      "{2, 3}\n"
     ]
    }
   ],
   "source": [
    "print ({1,2,3} & {2,3,4})"
   ]
  },
  {
   "cell_type": "code",
   "execution_count": 14,
   "metadata": {},
   "outputs": [
    {
     "name": "stdout",
     "output_type": "stream",
     "text": [
      "1\n",
      "2\n",
      "3\n",
      "4\n",
      "5\n",
      "6\n",
      "7\n",
      "8\n",
      "9\n",
      "end of while\n"
     ]
    }
   ],
   "source": [
    "x = 1\n",
    "while x < 10:\n",
    "    print(x)\n",
    "    x = x + 1\n",
    "    \n",
    "print(\"end of while\")"
   ]
  },
  {
   "cell_type": "code",
   "execution_count": 15,
   "metadata": {},
   "outputs": [
    {
     "name": "stdout",
     "output_type": "stream",
     "text": [
      "6\n",
      "<class 'int'>\n"
     ]
    }
   ],
   "source": [
    "x = 6\n",
    "print(x)\n",
    "print(type(x))"
   ]
  },
  {
   "cell_type": "code",
   "execution_count": 16,
   "metadata": {},
   "outputs": [
    {
     "name": "stdout",
     "output_type": "stream",
     "text": [
      "Hello world\n",
      "<class 'str'>\n"
     ]
    }
   ],
   "source": [
    "x = \"Hello world\"\n",
    "print(x)\n",
    "print(type(x))"
   ]
  },
  {
   "cell_type": "code",
   "execution_count": 17,
   "metadata": {},
   "outputs": [
    {
     "name": "stdout",
     "output_type": "stream",
     "text": [
      "range(0, 5)\n"
     ]
    }
   ],
   "source": [
    "#for loop\n",
    "x = range(5) #create a sequence of numbers from 0 to 4\n",
    "print(x)"
   ]
  },
  {
   "cell_type": "code",
   "execution_count": 18,
   "metadata": {},
   "outputs": [
    {
     "name": "stdout",
     "output_type": "stream",
     "text": [
      "0\n",
      "1\n",
      "2\n",
      "3\n",
      "4\n"
     ]
    }
   ],
   "source": [
    "for n in x:\n",
    "    print(n)"
   ]
  },
  {
   "cell_type": "code",
   "execution_count": 19,
   "metadata": {},
   "outputs": [
    {
     "name": "stdout",
     "output_type": "stream",
     "text": [
      "1\n",
      "2\n",
      "3\n",
      "4\n",
      "5\n",
      "6\n",
      "7\n",
      "8\n",
      "9\n"
     ]
    }
   ],
   "source": [
    "for x in range(1,10):\n",
    "    print(x)"
   ]
  },
  {
   "cell_type": "code",
   "execution_count": 20,
   "metadata": {},
   "outputs": [
    {
     "name": "stdout",
     "output_type": "stream",
     "text": [
      "30\n",
      "28\n",
      "26\n",
      "24\n",
      "22\n",
      "20\n",
      "18\n",
      "16\n",
      "14\n",
      "12\n"
     ]
    }
   ],
   "source": [
    "for x in range(30,10,-2):\n",
    "    print(x)"
   ]
  },
  {
   "cell_type": "code",
   "execution_count": 21,
   "metadata": {},
   "outputs": [
    {
     "name": "stdout",
     "output_type": "stream",
     "text": [
      "out of function\n"
     ]
    }
   ],
   "source": [
    "def say_hello():\n",
    "    msg=\"Hello world\"\n",
    "    \n",
    "    print(msg)\n",
    "\n",
    "print(\"out of function\")"
   ]
  },
  {
   "cell_type": "code",
   "execution_count": 22,
   "metadata": {},
   "outputs": [
    {
     "name": "stdout",
     "output_type": "stream",
     "text": [
      "Hello world\n"
     ]
    }
   ],
   "source": [
    "say_hello()"
   ]
  },
  {
   "cell_type": "code",
   "execution_count": 23,
   "metadata": {},
   "outputs": [
    {
     "name": "stdout",
     "output_type": "stream",
     "text": [
      "Hello world\n"
     ]
    }
   ],
   "source": [
    "def say_hello():\n",
    "    msg=\"Hello world\"\n",
    "    \n",
    "    print(msg)\n",
    "    return\n",
    "\n",
    "say_hello()"
   ]
  },
  {
   "cell_type": "code",
   "execution_count": 24,
   "metadata": {},
   "outputs": [],
   "source": [
    "def prompt_for_name():\n",
    "    first = input(\"what is your first name?\")\n",
    "    last = input(\"what is your last name?\")\n",
    "    return first,last"
   ]
  },
  {
   "cell_type": "code",
   "execution_count": 26,
   "metadata": {},
   "outputs": [
    {
     "name": "stdin",
     "output_type": "stream",
     "text": [
      "what is your first name? mingyu\n",
      "what is your last name? Tian\n"
     ]
    },
    {
     "name": "stdout",
     "output_type": "stream",
     "text": [
      "Hi,Tianmingyu)\n"
     ]
    }
   ],
   "source": [
    "first_name,last_name = prompt_for_name()\n",
    "print(\"Hi,{0}{1})\".format(last_name,first_name))"
   ]
  },
  {
   "cell_type": "markdown",
   "metadata": {},
   "source": [
    "Exceptioon Handling"
   ]
  },
  {
   "cell_type": "code",
   "execution_count": 27,
   "metadata": {},
   "outputs": [
    {
     "name": "stdout",
     "output_type": "stream",
     "text": [
      "in ZeroDivisionError\n",
      "division by zero\n",
      "finally\n"
     ]
    }
   ],
   "source": [
    "try:\n",
    "    x = 1\n",
    "    y = 0\n",
    "    z = 1/0\n",
    "    print(\"end of try\")\n",
    "except ZeroDivisionError as error:\n",
    "    print(\"in ZeroDivisionError\")\n",
    "    print(error)\n",
    "except:\n",
    "    print(\"except all\")\n",
    "finally:\n",
    "    print(\"finally\")"
   ]
  },
  {
   "cell_type": "code",
   "execution_count": 29,
   "metadata": {},
   "outputs": [
    {
     "name": "stdout",
     "output_type": "stream",
     "text": [
      "in ZeroDivisionError\n",
      "\n",
      "finally\n"
     ]
    }
   ],
   "source": [
    "def computeDiv(x,y):\n",
    "    if(y == 0):\n",
    "        raise ZeroDivisionError  #throw\n",
    "    return x/y\n",
    "try:\n",
    "    z = computeDiv(1,0)\n",
    "    print(\"end of try\")\n",
    "except ZeroDivisionError as error:\n",
    "    print(\"in ZeroDivisionError\")\n",
    "    print(error)\n",
    "except:\n",
    "    print(\"except all\")\n",
    "finally:\n",
    "    print(\"finally\")"
   ]
  },
  {
   "cell_type": "markdown",
   "metadata": {},
   "source": [
    "OO Concept"
   ]
  },
  {
   "cell_type": "code",
   "execution_count": 33,
   "metadata": {},
   "outputs": [],
   "source": [
    "class Person:\n",
    "    def __init__(self,name): #constructor\n",
    "        self.my_name = name"
   ]
  },
  {
   "cell_type": "code",
   "execution_count": 34,
   "metadata": {},
   "outputs": [
    {
     "name": "stdout",
     "output_type": "stream",
     "text": [
      "Tin\n"
     ]
    }
   ],
   "source": [
    "person_a = Person(\"Tin\")\n",
    "print(person_a.my_name)"
   ]
  },
  {
   "cell_type": "code",
   "execution_count": null,
   "metadata": {},
   "outputs": [],
   "source": [
    "class Animal:\n",
    "    pass    # default constructor will be generated\n",
    "my_animal = Animal()    # call default constructor"
   ]
  },
  {
   "cell_type": "code",
   "execution_count": 35,
   "metadata": {},
   "outputs": [
    {
     "name": "stdout",
     "output_type": "stream",
     "text": [
      "ISS\n"
     ]
    }
   ],
   "source": [
    "class ISSStudent:\n",
    "    def __init__(self): # default constructor\n",
    "        self.institute_name = \"ISS\"\n",
    "        \n",
    "student = ISSStudent()\n",
    "print(student.institute_name)"
   ]
  },
  {
   "cell_type": "code",
   "execution_count": 47,
   "metadata": {},
   "outputs": [
    {
     "name": "stdout",
     "output_type": "stream",
     "text": [
      "Corolla\n",
      "Toyota\n",
      "blue\n"
     ]
    }
   ],
   "source": [
    "class Car:\n",
    "    def __init__(self):\n",
    "        self.name = \"Corolla\" # public\n",
    "        self._make = \"Toyota\" # protected\n",
    "        self.__model = 1999 # private\n",
    "    \n",
    "    def __init__(self,colour): # constructor\n",
    "        self.my_colour = colour\n",
    "        self.name = \"Corolla\" # public\n",
    "        self._make = \"Toyota\" # protected\n",
    "        self.__model = 1999 # private\n",
    "        \n",
    "my_Car = Car('blue')\n",
    "print(my_Car.name)\n",
    "print(my_Car._make)\n",
    "#print(my_Car.__model)\n",
    "print(my_Car.my_colour)"
   ]
  },
  {
   "cell_type": "code",
   "execution_count": 48,
   "metadata": {},
   "outputs": [
    {
     "name": "stdout",
     "output_type": "stream",
     "text": [
      "6\n"
     ]
    }
   ],
   "source": [
    "# Factorial n! = n * (n-1) * (n-2) *(n-3) *...* 1\n",
    "def fact(n):\n",
    "    assert n >= 0,\"Factorial not defined for negative values\" \n",
    "    #assertion condition\n",
    "    \n",
    "    if n < 2:\n",
    "        return 1\n",
    "    else:\n",
    "        return n * fact(n - 1)\n",
    "    \n",
    "print(fact(3))"
   ]
  },
  {
   "cell_type": "code",
   "execution_count": null,
   "metadata": {},
   "outputs": [],
   "source": [
    "#也可以用for loop实现"
   ]
  },
  {
   "cell_type": "markdown",
   "metadata": {},
   "source": [
    "List"
   ]
  },
  {
   "cell_type": "code",
   "execution_count": 49,
   "metadata": {},
   "outputs": [
    {
     "name": "stdout",
     "output_type": "stream",
     "text": [
      "Array 1 : [1, 2, 3, 4, 5]\n",
      "The length of array 1 is  5\n",
      "duck <class 'str'>\n",
      "chicken <class 'str'>\n",
      "3 <class 'int'>\n",
      "4 <class 'int'>\n",
      "True <class 'bool'>\n"
     ]
    }
   ],
   "source": [
    "array_1 = [1,2,3,4,5]\n",
    "print(\"Array 1 :\",array_1)\n",
    "print(\"The length of array 1 is \",len(array_1))\n",
    "array_2 = [\"duck\",\"chicken\",3,4,True]\n",
    "#array is untyped\n",
    "for val in array_2:\n",
    "    print(val,type(val))"
   ]
  },
  {
   "cell_type": "markdown",
   "metadata": {},
   "source": [
    "Tuple"
   ]
  },
  {
   "cell_type": "code",
   "execution_count": 51,
   "metadata": {},
   "outputs": [
    {
     "name": "stdout",
     "output_type": "stream",
     "text": [
      "(1, 2) <class 'tuple'>\n",
      "1\n"
     ]
    }
   ],
   "source": [
    "tuple_1 = (1,2)\n",
    "print(tuple_1,type(tuple_1))\n",
    "\n",
    "# first element of tuple_1\n",
    "print(tuple_1[0])"
   ]
  },
  {
   "cell_type": "markdown",
   "metadata": {},
   "source": [
    "Map"
   ]
  }
 ],
 "metadata": {
  "kernelspec": {
   "display_name": "Python 3",
   "language": "python",
   "name": "python3"
  },
  "language_info": {
   "codemirror_mode": {
    "name": "ipython",
    "version": 3
   },
   "file_extension": ".py",
   "mimetype": "text/x-python",
   "name": "python",
   "nbconvert_exporter": "python",
   "pygments_lexer": "ipython3",
   "version": "3.8.3"
  }
 },
 "nbformat": 4,
 "nbformat_minor": 4
}
