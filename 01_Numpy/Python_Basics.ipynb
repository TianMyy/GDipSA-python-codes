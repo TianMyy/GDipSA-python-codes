{
 "cells": [
  {
   "cell_type": "markdown",
   "metadata": {},
   "source": [
    "# Python Basics"
   ]
  },
  {
   "cell_type": "raw",
   "metadata": {},
   "source": [
    "Python programs are executred using the Python interpreter.  THe interpreter can execute Python programs in either interactive mode or script mode.\n",
    "Interfactive mode is useful for testing in either single statements or small code segments\n",
    "In Jupyter notebook, press the tab key for auto-suggestion feature."
   ]
  },
  {
   "cell_type": "code",
   "execution_count": 1,
   "metadata": {},
   "outputs": [
    {
     "name": "stdout",
     "output_type": "stream",
     "text": [
      "Hello World\n"
     ]
    }
   ],
   "source": [
    "print(\"Hello World\")"
   ]
  },
  {
   "cell_type": "raw",
   "metadata": {},
   "source": [
    "Script mode is used to execute Python programs stoed in text files.  To execued the program, enter the command python xyz.py at the command prompt.  The causes the Python interpreter to run in script mode, which reads the text file and executes the statements contained within the file"
   ]
  },
  {
   "cell_type": "raw",
   "metadata": {},
   "source": [
    "Primitive Types"
   ]
  },
  {
   "cell_type": "markdown",
   "metadata": {},
   "source": [
    "# Variables and Types"
   ]
  },
  {
   "cell_type": "code",
   "execution_count": 2,
   "metadata": {},
   "outputs": [],
   "source": [
    "#Python is a dynamically-typed language.  \n",
    "# We don not know the type of a variable until we run it\n",
    "# Do not need to declare the type of a variable\n",
    "\n",
    "x = 6                 # int\n",
    "y = 25.45             # float\n",
    "flag = True           # float\n",
    "msg = 'Hello'         # string\n",
    "msg1 = \"Good morning\" # string\n",
    "\n",
    "\n",
    "dictCredit ={\"Ester\" : 100, \"Tin\" : 80} # Dictonary"
   ]
  },
  {
   "cell_type": "code",
   "execution_count": 3,
   "metadata": {},
   "outputs": [
    {
     "name": "stdout",
     "output_type": "stream",
     "text": [
      "6\n",
      "<class 'int'>\n"
     ]
    }
   ],
   "source": [
    "print(x)\n",
    "print(type(x))"
   ]
  },
  {
   "cell_type": "code",
   "execution_count": 4,
   "metadata": {},
   "outputs": [
    {
     "name": "stdout",
     "output_type": "stream",
     "text": [
      "25.45\n",
      "<class 'float'>\n"
     ]
    }
   ],
   "source": [
    "print(y)\n",
    "print(type(y))"
   ]
  },
  {
   "cell_type": "code",
   "execution_count": 5,
   "metadata": {},
   "outputs": [
    {
     "name": "stdout",
     "output_type": "stream",
     "text": [
      "Hello\n",
      "<class 'str'>\n"
     ]
    }
   ],
   "source": [
    "print(msg)\n",
    "print(type(msg))"
   ]
  },
  {
   "cell_type": "code",
   "execution_count": 6,
   "metadata": {},
   "outputs": [
    {
     "name": "stdout",
     "output_type": "stream",
     "text": [
      "e\n",
      "Hel\n",
      "o\n",
      "e\n",
      "Hell\n"
     ]
    }
   ],
   "source": [
    "# string slicing\n",
    "print(msg[1])  # print 2nd from the start (index starts from 0)\n",
    "print(msg[:3])  # print up to 3rd character\n",
    "print(msg[-1])  # printing the last element\n",
    "print(msg[-4])  # print the last element\n",
    "print(msg[:-1]) # print all element up to the last "
   ]
  },
  {
   "cell_type": "code",
   "execution_count": 7,
   "metadata": {},
   "outputs": [
    {
     "name": "stdout",
     "output_type": "stream",
     "text": [
      "Good morning\n",
      "<class 'str'>\n"
     ]
    }
   ],
   "source": [
    "print(msg1)\n",
    "print(type(msg1))"
   ]
  },
  {
   "cell_type": "code",
   "execution_count": 8,
   "metadata": {},
   "outputs": [],
   "source": [
    "# Python does not support constant variables\n",
    "# As a pracice, specify constand variables with all capital letters\n",
    "MAX_SIZE =100"
   ]
  },
  {
   "cell_type": "code",
   "execution_count": 9,
   "metadata": {
    "scrolled": true
   },
   "outputs": [
    {
     "name": "stdout",
     "output_type": "stream",
     "text": [
      "False\n"
     ]
    }
   ],
   "source": [
    "x =3\n",
    "print (x == 4)"
   ]
  },
  {
   "cell_type": "code",
   "execution_count": 10,
   "metadata": {},
   "outputs": [
    {
     "name": "stdout",
     "output_type": "stream",
     "text": [
      "What is your name?chia\n",
      "Good morning chia!\n"
     ]
    }
   ],
   "source": [
    "# placeholders defined by a pair of curly braces { } into a string and calling the str.format()\n",
    "name = input(\"What is your name?\")\n",
    "print(\"Good morning {0}{1}\".format(name, \"!\") ) "
   ]
  },
  {
   "cell_type": "code",
   "execution_count": 11,
   "metadata": {},
   "outputs": [
    {
     "name": "stdout",
     "output_type": "stream",
     "text": [
      "What is your name?chia\n",
      "Good morning chia !\n"
     ]
    }
   ],
   "source": [
    "name = input(\"What is your name?\")\n",
    "print(\"Good morning %s %s\" % (name, \"!\")) #formatting into strings"
   ]
  },
  {
   "cell_type": "markdown",
   "metadata": {},
   "source": [
    "# Arrays and Data Structures"
   ]
  },
  {
   "cell_type": "code",
   "execution_count": 12,
   "metadata": {},
   "outputs": [
    {
     "name": "stdout",
     "output_type": "stream",
     "text": [
      "['yk', 2, 3]\n",
      "yk\n",
      "[1, 2, 3]\n",
      "[1, 2, 3, 4]\n",
      "[1, 2, 2.5, 3, 4]\n",
      "[1, 2, 3, 4]\n",
      "[1, 3, 4]\n",
      "[1]\n",
      "[[1, 2], [3, 4], [5]]\n"
     ]
    }
   ],
   "source": [
    "myList = ['yk',2,3]   # list  \n",
    "print (myList)\n",
    "print(myList[0])   #index starts with 0\n",
    "myList[0] =1\n",
    "print (myList)\n",
    "myList.append(4)  # append behind\n",
    "print (myList)\n",
    "myList.insert(2, 2.5)  # insert at 3rd (2+1) position\n",
    "print (myList)\n",
    "myList.remove(2.5)  # remove the element with value 2.5\n",
    "print (myList)\n",
    "del myList[1] # delete 2nd element\n",
    "print(myList)\n",
    "del myList[1:3] # delete first 2 elements\n",
    "print(myList)\n",
    "myList = [[1,2], [3,4], [5]]  # multi-dimensional array\n",
    "print (myList)"
   ]
  },
  {
   "cell_type": "code",
   "execution_count": 13,
   "metadata": {},
   "outputs": [
    {
     "name": "stdout",
     "output_type": "stream",
     "text": [
      "('a', 'b', 'c')\n",
      "('b', 'c')\n"
     ]
    }
   ],
   "source": [
    "myTuple = ('a', 'b', 'c') # Tuple - similiar to list but contents cannot be changed once it is \n",
    "                         #created\n",
    "print ( myTuple)  \n",
    "#myTuple[0] = '2' # error\n",
    "myTuple = ('b', 'c')   # recreate\n",
    "print(myTuple)"
   ]
  },
  {
   "cell_type": "code",
   "execution_count": 14,
   "metadata": {},
   "outputs": [
    {
     "name": "stdout",
     "output_type": "stream",
     "text": [
      "('a', 'b', 'c')\n",
      "a\n",
      "a\n",
      "b\n",
      "c\n",
      "('a', 'b', 'c')\n",
      "(100, 200, 300)\n"
     ]
    }
   ],
   "source": [
    "myTuple = ('a', 'b', 'c') # Tuple - similiar to list but contents cannot be changed once it is \n",
    "                         #created\n",
    "\n",
    "print ( myTuple)\n",
    "print(myTuple[0]) #index starts with 0\n",
    "# myTuple[0] = 'd'   # error, tuple cannot be changed\n",
    "\n",
    "# we can unpack a tuple\n",
    "x, y, z = myTuple  # same number of elemetns in the tuple\n",
    "print(x)\n",
    "print(y)\n",
    "print(z)\n",
    "print ( myTuple)\n",
    "# we can pack value into a tuple without parantheses\n",
    "tuple1 = 100, 200, 300\n",
    "print(tuple1)"
   ]
  },
  {
   "cell_type": "code",
   "execution_count": 15,
   "metadata": {
    "scrolled": true
   },
   "outputs": [
    {
     "name": "stdout",
     "output_type": "stream",
     "text": [
      "{'apple', 'banana', 'pear', 'orange'}\n"
     ]
    }
   ],
   "source": [
    "# A set is an unordered collection with no duplicate elements\n",
    "basket = {'apple','orange', 'apple', 'pear', 'orange', 'banana'}\n",
    "print (basket)"
   ]
  },
  {
   "cell_type": "code",
   "execution_count": 16,
   "metadata": {
    "scrolled": true
   },
   "outputs": [
    {
     "name": "stdout",
     "output_type": "stream",
     "text": [
      "True\n",
      "False\n"
     ]
    }
   ],
   "source": [
    "#check for membership\n",
    "print('orange' in basket)\n",
    "print('durian' in basket)"
   ]
  },
  {
   "cell_type": "code",
   "execution_count": 17,
   "metadata": {},
   "outputs": [
    {
     "name": "stdout",
     "output_type": "stream",
     "text": [
      "{1}\n",
      "{1, 2, 3, 4}\n",
      "{2, 3}\n",
      "{1, 4}\n"
     ]
    }
   ],
   "source": [
    "# subtraction\n",
    "print ({1,2,3} - {2,3,4})\n",
    "\n",
    "# union\n",
    "print({1,2,3} | {2, 3, 4})\n",
    "\n",
    "# intersection\n",
    "print ({1,2,3} & {2, 3, 4})\n",
    "\n",
    "# items that exist only in one of the sets\n",
    "print ({1, 2, 3} ^ {2, 3, 4})"
   ]
  },
  {
   "cell_type": "code",
   "execution_count": 18,
   "metadata": {},
   "outputs": [
    {
     "name": "stdout",
     "output_type": "stream",
     "text": [
      "{'r1': 'alice', 'r2': 'bob', 'r3': 'charlie', 'r4': None} <class 'dict'>\n",
      "bob\n"
     ]
    }
   ],
   "source": [
    "# Dictionary is a set of key-value pair with unique keys.\n",
    "# C# - Dictionary, Java - Map\n",
    "# Room booking dictionary\n",
    "map_1 = {'r1' : 'alice', 'r2' : 'bob', 'r3' : 'charlie','r4' : None}\n",
    "print(map_1, type(map_1))\n",
    "print(map_1 ['r2'])\n"
   ]
  },
  {
   "cell_type": "code",
   "execution_count": 19,
   "metadata": {},
   "outputs": [
    {
     "name": "stdout",
     "output_type": "stream",
     "text": [
      "{'r1': 'alice', 'r2': 'bob', 'r3': 'charlie', 'r4': None, 'r5': None}\n"
     ]
    }
   ],
   "source": [
    "# Adding a new key to the map\n",
    "map_1 ['r5'] = None\n",
    "print(map_1)"
   ]
  },
  {
   "cell_type": "code",
   "execution_count": 20,
   "metadata": {},
   "outputs": [
    {
     "name": "stdout",
     "output_type": "stream",
     "text": [
      "{'r1': 'alice', 'r2': 'bob', 'r3': 'charlie', 'r4': None}\n"
     ]
    }
   ],
   "source": [
    "del map_1['r5']\n",
    "print (map_1)"
   ]
  },
  {
   "cell_type": "code",
   "execution_count": 21,
   "metadata": {},
   "outputs": [
    {
     "name": "stdout",
     "output_type": "stream",
     "text": [
      "['r1', 'r2', 'r3', 'r4']\n"
     ]
    }
   ],
   "source": [
    "# print a list of keys\n",
    "print(list(map_1))"
   ]
  },
  {
   "cell_type": "code",
   "execution_count": 22,
   "metadata": {},
   "outputs": [
    {
     "name": "stdout",
     "output_type": "stream",
     "text": [
      "{'name': 'adam', 'height': '170', 'weight': '70'}\n",
      "{'name': 'betty', 'height': 165, 'weight': 65}\n"
     ]
    }
   ],
   "source": [
    "\n",
    "\n",
    "# create a dictionary from 2 lists\n",
    "print ( dict (zip (['name', 'height', 'weight'], ['adam', '170', '70'])))\n",
    "\n",
    "\n",
    "       \n",
    "# create a dictionary from a list of tuples\n",
    "print(dict([('name', 'betty'), ('height', 165), ('weight', 65)]))\n"
   ]
  },
  {
   "cell_type": "markdown",
   "metadata": {},
   "source": [
    "# Some Useful Tips"
   ]
  },
  {
   "cell_type": "code",
   "execution_count": 23,
   "metadata": {},
   "outputs": [
    {
     "name": "stdout",
     "output_type": "stream",
     "text": [
      "DD\n"
     ]
    }
   ],
   "source": [
    "map1 = {'a': 'A', 'b': 'B'}\n",
    "map2 = {'c' : 'CC', 'd':'DD'}\n",
    "\n",
    "# get the value of key d, without knowing which map contains key 'd'\n",
    "\n",
    "val = map1.get('d') or map2.get('d')\n",
    "print(val)"
   ]
  },
  {
   "cell_type": "raw",
   "metadata": {},
   "source": [
    "# Python does not allow empty block, use 'pass' to simulate empty block\n",
    "x = 1\n",
    "if (x ==2) :  #do nothing\n",
    "    pass\n",
    "else:\n",
    "    print('???')"
   ]
  },
  {
   "cell_type": "markdown",
   "metadata": {},
   "source": [
    "# Conditionals\n",
    "\n",
    "Similiar to C# and Java \n",
    "Indentation is used instead of { } to indicate a unit of code blocks"
   ]
  },
  {
   "cell_type": "code",
   "execution_count": 24,
   "metadata": {},
   "outputs": [
    {
     "name": "stdout",
     "output_type": "stream",
     "text": [
      "Enter hour in 24-hou format:44\n",
      "Invalid input\n"
     ]
    }
   ],
   "source": [
    "hour = int (input (\"Enter hour in 24-hou format:\"))\n",
    "\n",
    "if hour < 12:\n",
    "    print (\"Good morning\")\n",
    "elif (hour < 18):\n",
    "    print(\"Good afternoon\")\n",
    "elif (hour < 24):\n",
    "    print(\"Good evening\")\n",
    "else:\n",
    "    print(\"Invalid input\")"
   ]
  },
  {
   "cell_type": "markdown",
   "metadata": {},
   "source": [
    "# Iteration\n",
    "\n",
    "While loop"
   ]
  },
  {
   "cell_type": "code",
   "execution_count": 25,
   "metadata": {},
   "outputs": [
    {
     "name": "stdout",
     "output_type": "stream",
     "text": [
      "1\n",
      "2\n",
      "3\n",
      "4\n",
      "5\n",
      "6\n",
      "7\n",
      "8\n",
      "9\n"
     ]
    }
   ],
   "source": [
    "x = 1\n",
    "while x < 10:\n",
    "    print(x)\n",
    "    x = x + 1"
   ]
  },
  {
   "cell_type": "markdown",
   "metadata": {},
   "source": [
    "# for loop"
   ]
  },
  {
   "cell_type": "code",
   "execution_count": 26,
   "metadata": {},
   "outputs": [
    {
     "name": "stdout",
     "output_type": "stream",
     "text": [
      "range(0, 5)\n",
      "0\n",
      "1\n",
      "2\n",
      "3\n",
      "4\n"
     ]
    }
   ],
   "source": [
    "# Create a sequence of numbers from 0 to 4\n",
    "x = range(5)\n",
    "\n",
    "# print the variable\n",
    "print(x)\n",
    "\n",
    "# print all values in the range\n",
    "for n in x:\n",
    "  print(n)"
   ]
  },
  {
   "cell_type": "code",
   "execution_count": 27,
   "metadata": {},
   "outputs": [
    {
     "name": "stdout",
     "output_type": "stream",
     "text": [
      "1\n",
      "2\n",
      "3\n",
      "4\n",
      "5\n",
      "6\n",
      "7\n",
      "8\n",
      "9\n"
     ]
    }
   ],
   "source": [
    "for x in range (1, 10) : \n",
    "    print(x)"
   ]
  },
  {
   "cell_type": "code",
   "execution_count": 28,
   "metadata": {},
   "outputs": [
    {
     "name": "stdout",
     "output_type": "stream",
     "text": [
      "0\n",
      "1\n",
      "2\n",
      "3\n",
      "4\n",
      "5\n",
      "6\n",
      "7\n",
      "8\n",
      "9\n"
     ]
    }
   ],
   "source": [
    "for x in range(10) :\n",
    "     print(x)"
   ]
  },
  {
   "cell_type": "code",
   "execution_count": 29,
   "metadata": {},
   "outputs": [
    {
     "name": "stdout",
     "output_type": "stream",
     "text": [
      "30\n",
      "28\n",
      "26\n",
      "24\n",
      "22\n",
      "20\n",
      "18\n",
      "16\n",
      "14\n",
      "12\n"
     ]
    }
   ],
   "source": [
    "for x in range(30, 10, -2) :\n",
    "     print(x)"
   ]
  },
  {
   "cell_type": "markdown",
   "metadata": {},
   "source": [
    "# Array Processing"
   ]
  },
  {
   "cell_type": "code",
   "execution_count": 30,
   "metadata": {},
   "outputs": [
    {
     "name": "stdout",
     "output_type": "stream",
     "text": [
      "x : [1, 1, 1, 1, 1, 1, 1, 1, 1, 1]\n"
     ]
    }
   ],
   "source": [
    "# initialize a list of values\n",
    "rows = 10\n",
    "x = [1  for i in range(rows)]          \n",
    "print(\"x : {0}\".format(x))"
   ]
  },
  {
   "cell_type": "code",
   "execution_count": 31,
   "metadata": {},
   "outputs": [
    {
     "name": "stdout",
     "output_type": "stream",
     "text": [
      "x : [0, 1, 2, 3, 4, 5, 6, 7, 8, 9]\n"
     ]
    }
   ],
   "source": [
    "# create a list of 10 running sequence of number, starting from 0\n",
    "x = [i  for i in range(rows)]          \n",
    "print(\"x : {0}\".format(x))"
   ]
  },
  {
   "cell_type": "code",
   "execution_count": 32,
   "metadata": {
    "scrolled": true
   },
   "outputs": [
    {
     "name": "stdout",
     "output_type": "stream",
     "text": [
      "x : [1, 2, 3, 4, 5, 6, 7, 8, 9, 10]\n"
     ]
    }
   ],
   "source": [
    "# create a list of 10 running sequence of number, starting from 1\n",
    "x = [(i +1)    for i in range(rows)]          \n",
    "print(\"x : {0}\".format(x))"
   ]
  },
  {
   "cell_type": "code",
   "execution_count": 33,
   "metadata": {},
   "outputs": [
    {
     "name": "stdout",
     "output_type": "stream",
     "text": [
      "[[0, 1], [0, 2], [0, 3], [0, 4], [0, 5], [0, 6], [0, 7], [0, 8], [0, 9], [0, 10]]\n"
     ]
    }
   ],
   "source": [
    "# create 2D array \n",
    "# first column 0 (row_number + 1) * 0\n",
    "# second column 1 (row_number + 1) * 1\n",
    "rows = 10\n",
    "columns = 2\n",
    "x = [[ (i + 1) *j   for j in range(columns)]\n",
    "      for i in range(rows)]\n",
    "print(x)"
   ]
  },
  {
   "cell_type": "code",
   "execution_count": 34,
   "metadata": {},
   "outputs": [
    {
     "name": "stdout",
     "output_type": "stream",
     "text": [
      "[[0, 1], [0, 2], [0, 3], [0, 4], [0, 5], [0, 6], [0, 7], [0, 8], [0, 9], [0, 10]]\n"
     ]
    }
   ],
   "source": [
    "# the above has the same effect as the followings\n",
    "rows = 10\n",
    "columns = 2\n",
    "a = [[ 0   for j in range(columns)]\n",
    "      for i in range(rows)]\n",
    "\n",
    "for i in range(rows):    \n",
    "    for j in range(columns):\n",
    "        a[i][j] = (i + 1) * j\n",
    "        \n",
    "print(a)"
   ]
  },
  {
   "cell_type": "code",
   "execution_count": 35,
   "metadata": {},
   "outputs": [
    {
     "name": "stdout",
     "output_type": "stream",
     "text": [
      "[[0, 1, 2], [0, 2, 4], [0, 3, 6], [0, 4, 8], [0, 5, 10], [0, 6, 12], [0, 7, 14], [0, 8, 16], [0, 9, 18], [0, 10, 20]]\n"
     ]
    }
   ],
   "source": [
    "# create 2D array with 3 columns\n",
    "# first column 0 (row_number + 1) * 0\n",
    "# second column 1 (row_number + 1) * 1\n",
    "# third column 2 (row_number + 1) * 1\n",
    "rows = 10\n",
    "columns = 3\n",
    "x = [[ (i + 1) *j   for j in range(columns)]\n",
    "      for i in range(rows)]\n",
    "print(x)"
   ]
  },
  {
   "cell_type": "markdown",
   "metadata": {},
   "source": [
    "# String formatting"
   ]
  },
  {
   "cell_type": "code",
   "execution_count": 36,
   "metadata": {},
   "outputs": [
    {
     "name": "stdout",
     "output_type": "stream",
     "text": [
      "100\n"
     ]
    }
   ],
   "source": [
    "print(\"{0}\".format (100, 200))  # value 100 is used to replace {0} placeholder"
   ]
  },
  {
   "cell_type": "code",
   "execution_count": 37,
   "metadata": {
    "scrolled": true
   },
   "outputs": [
    {
     "name": "stdout",
     "output_type": "stream",
     "text": [
      "200\n"
     ]
    }
   ],
   "source": [
    "print(\"{1}\".format (100, 200))  #  {1} placeholder"
   ]
  },
  {
   "cell_type": "code",
   "execution_count": 38,
   "metadata": {},
   "outputs": [
    {
     "name": "stdout",
     "output_type": "stream",
     "text": [
      "__123456__\n"
     ]
    }
   ],
   "source": [
    "print(\"{0:_^10}\".format(123456)) # center aligned"
   ]
  },
  {
   "cell_type": "code",
   "execution_count": 39,
   "metadata": {},
   "outputs": [
    {
     "name": "stdout",
     "output_type": "stream",
     "text": [
      "123456____\n"
     ]
    }
   ],
   "source": [
    "print(\"{0:_<10}\".format(123456)) # left aligned"
   ]
  },
  {
   "cell_type": "code",
   "execution_count": 40,
   "metadata": {},
   "outputs": [
    {
     "name": "stdout",
     "output_type": "stream",
     "text": [
      "____123456\n"
     ]
    }
   ],
   "source": [
    "print(\"{0:_>10}\".format(123456)) # right aligned"
   ]
  },
  {
   "cell_type": "code",
   "execution_count": 41,
   "metadata": {},
   "outputs": [
    {
     "name": "stdout",
     "output_type": "stream",
     "text": [
      "___1,234,567\n"
     ]
    }
   ],
   "source": [
    "print(\"{0:_>12,}\".format(1234567)) #right aligned with thousand separator"
   ]
  },
  {
   "cell_type": "code",
   "execution_count": 42,
   "metadata": {
    "scrolled": true
   },
   "outputs": [
    {
     "name": "stdout",
     "output_type": "stream",
     "text": [
      "{:Monday, 01 April 2019}\n"
     ]
    }
   ],
   "source": [
    "import datetime\n",
    "my_date = datetime.date(2019,4,1)\n",
    "print(format(my_date, \"{:%A, %d %B %Y}\"))"
   ]
  },
  {
   "cell_type": "markdown",
   "metadata": {},
   "source": [
    "# User Defined Functions"
   ]
  },
  {
   "cell_type": "code",
   "execution_count": 43,
   "metadata": {},
   "outputs": [],
   "source": [
    "def say_hello():\n",
    "    msg = \"Hello World\"\n",
    "    print(msg)      "
   ]
  },
  {
   "cell_type": "code",
   "execution_count": 44,
   "metadata": {},
   "outputs": [
    {
     "name": "stdout",
     "output_type": "stream",
     "text": [
      "Hello World\n"
     ]
    }
   ],
   "source": [
    "say_hello()"
   ]
  },
  {
   "cell_type": "code",
   "execution_count": 45,
   "metadata": {},
   "outputs": [
    {
     "name": "stdout",
     "output_type": "stream",
     "text": [
      "Good Morning\n"
     ]
    }
   ],
   "source": [
    "# return can be used to terminate a function\n",
    "def say_hello():\n",
    "    msg = \"Good Morning\"\n",
    "    print(msg) \n",
    "    return\n",
    "\n",
    "say_hello()"
   ]
  },
  {
   "cell_type": "code",
   "execution_count": 48,
   "metadata": {},
   "outputs": [],
   "source": [
    "# return can be used to return values\n",
    "def prompt_for_name():\n",
    "    first = input(\"What is your first name?\")\n",
    "    last = input(\"what is your last name?\")\n",
    "    return first, last"
   ]
  },
  {
   "cell_type": "code",
   "execution_count": 49,
   "metadata": {
    "scrolled": true
   },
   "outputs": [
    {
     "name": "stdout",
     "output_type": "stream",
     "text": [
      "What is your first name?chia\n",
      "what is your last name?yuen\n",
      "Hi, yuen chia\n"
     ]
    }
   ],
   "source": [
    "first_name, last_name = prompt_for_name()\n",
    "print (\"Hi, {0} {1}\".format(last_name, first_name))"
   ]
  },
  {
   "cell_type": "markdown",
   "metadata": {},
   "source": [
    "# Exception Handling"
   ]
  },
  {
   "cell_type": "raw",
   "metadata": {},
   "source": [
    "C#, Java \n",
    "\n",
    "try {\n",
    "    . . .\n",
    "}\n",
    "catch (ApplException se)  { \n",
    "    . . . \n",
    "}\n",
    "catch (Exception e) {\n",
    "    . . . \n",
    "}  \n",
    "finally {\n",
    "    . . . \n",
    "}\n",
    "\n",
    "\n",
    "throw se // throw exception object \n",
    "\n",
    "\n",
    "Python \n",
    "  try: \n",
    "     . . .\n",
    "  except ApplExcep:\n",
    "     . . .\n",
    "  except:  \n",
    "    . . .\n",
    "  finally:\n",
    "    . . .   \n",
    "\n",
    "   \n",
    "raise se # raise exception object\n",
    "   \n"
   ]
  },
  {
   "cell_type": "code",
   "execution_count": 50,
   "metadata": {},
   "outputs": [
    {
     "name": "stdout",
     "output_type": "stream",
     "text": [
      "In except ZeroDivisionError\n",
      "division by zero\n",
      "finally\n"
     ]
    }
   ],
   "source": [
    " \n",
    "try:    \n",
    "    x = 1 \n",
    "    y = 0\n",
    "    z = 1 /0\n",
    "    print(\"end of try\")\n",
    "except ZeroDivisionError as error:\n",
    "    print(\"In except ZeroDivisionError\")\n",
    "    print(error)\n",
    "    #sys.exc_info()[2]\n",
    "except:\n",
    "    print(\"except all\")\n",
    " \n",
    "finally:\n",
    "    print(\"finally\")\n"
   ]
  },
  {
   "cell_type": "code",
   "execution_count": 51,
   "metadata": {},
   "outputs": [
    {
     "name": "stdout",
     "output_type": "stream",
     "text": [
      "except all\n",
      "finally\n"
     ]
    }
   ],
   "source": [
    "def computeDiv(x,y):\n",
    "    if (y == 0):\n",
    "       raise InvalidDenominatorError\n",
    "    return x / y\n",
    "\n",
    "try: \n",
    "    z = computeDiv(1, 0)\n",
    "    print(\"end of try\")\n",
    "except ZeroDivisionError as error:\n",
    "    print(\"In except ZeroDivisionError\")\n",
    "    print(error)\n",
    "    \n",
    "except:\n",
    "    print(\"except all\") \n",
    "finally:\n",
    "    print(\"finally\")"
   ]
  },
  {
   "cell_type": "code",
   "execution_count": 52,
   "metadata": {},
   "outputs": [],
   "source": [
    "class Person:\n",
    "     \n",
    "      def __init__ (self, name):      # constructor\n",
    "           self.my_name = name       # instance variable -- my_name  \n",
    " "
   ]
  },
  {
   "cell_type": "code",
   "execution_count": 53,
   "metadata": {
    "scrolled": true
   },
   "outputs": [
    {
     "name": "stdout",
     "output_type": "stream",
     "text": [
      "Tin\n"
     ]
    }
   ],
   "source": [
    "\n",
    "person_a = Person(\"Tin\")\n",
    "print(person_a.my_name)\n"
   ]
  },
  {
   "cell_type": "code",
   "execution_count": 54,
   "metadata": {},
   "outputs": [
    {
     "name": "stdout",
     "output_type": "stream",
     "text": [
      "ISS\n"
     ]
    }
   ],
   "source": [
    "class Animal:\n",
    "    pass   # default constructor will be generated\n",
    "\n",
    "my_animal = Animal()  #call default constructor\n",
    "\n",
    "class ISSStudent:    \n",
    "    def __init__(self):  # default constructor\n",
    "        self.institute_name = \"ISS\"\n",
    "        \n",
    "student = ISSStudent()\n",
    "print(student.institute_name)"
   ]
  },
  {
   "cell_type": "raw",
   "metadata": {},
   "source": [
    "# Classes & Objects\n",
    "Access modifiers for attributes:\n",
    "  private  - prefix the attribute or method name with double underscore\n",
    "  protected - prefix the attribute or method name with single underscore (can be accessed anywhere within the same package)\n",
    "  public  - prefix the attribute or method name with no underscore"
   ]
  },
  {
   "cell_type": "code",
   "execution_count": 56,
   "metadata": {},
   "outputs": [
    {
     "name": "stdout",
     "output_type": "stream",
     "text": [
      "Corolla\n",
      "Toyota\n"
     ]
    }
   ],
   "source": [
    "class Car:\n",
    "     \n",
    "        def __init__ (self):   \n",
    "            self.name = \"Corolla\"\n",
    "            self._make =\"Toyota\"\n",
    "            self.__model = 1999\n",
    "            \n",
    "my_car = Car()\n",
    "print(my_car.name)\n",
    "print(my_car._make)\n",
    "# print(my_car.__model)  #error accessing private attribute"
   ]
  },
  {
   "cell_type": "code",
   "execution_count": 58,
   "metadata": {},
   "outputs": [
    {
     "name": "stdout",
     "output_type": "stream",
     "text": [
      "100000.0\n",
      "99700.0\n",
      "99700.0\n"
     ]
    }
   ],
   "source": [
    "class BankAccount:\n",
    "    def __init__ (self, account_number, balance):\n",
    "        self.account_number = account_number\n",
    "        self.balance = balance\n",
    "    def deposit(self, amount):    \n",
    "        self.balance = self.balance + amount\n",
    "    def withdraw(self, amount):\n",
    "        self.balance = self.balance - amount    \n",
    "    def get_balance(self):\n",
    "        return self.balance\n",
    "   # def get_balance(self):\n",
    "    #    return self.balance\n",
    "    \n",
    "        \n",
    "my_account = BankAccount(\"123\", 100000.00)\n",
    "print(my_account.balance)\n",
    "my_account.withdraw(500)\n",
    "my_account.deposit(200)\n",
    "print(my_account.balance)\n",
    "print(my_account.get_balance())"
   ]
  },
  {
   "cell_type": "code",
   "execution_count": 59,
   "metadata": {},
   "outputs": [
    {
     "name": "stdout",
     "output_type": "stream",
     "text": [
      "100000.0\n",
      "99700.0\n",
      "99700.0\n"
     ]
    }
   ],
   "source": [
    "my_account = BankAccount(\"123\", 100000.00)\n",
    "print(my_account.balance)\n",
    "my_account.withdraw(500)\n",
    "my_account.deposit(200)\n",
    "print(my_account.balance)\n",
    "print(my_account.get_balance())"
   ]
  },
  {
   "cell_type": "markdown",
   "metadata": {},
   "source": [
    "# Optional: Polymorphism"
   ]
  },
  {
   "cell_type": "raw",
   "metadata": {},
   "source": [
    "Polymorphism means different types respond to the same function, makes programming more intuitive and easier.\n",
    "Polymorphic behaviour allows you to specify common methods in an \"abstract\" level, and implement them in particular instances."
   ]
  },
  {
   "cell_type": "code",
   "execution_count": 60,
   "metadata": {
    "scrolled": true
   },
   "outputs": [
    {
     "name": "stdout",
     "output_type": "stream",
     "text": [
      "Kitty: Meow!\n",
      "Puss: Meow!\n",
      "Spot: Woof! Woof!\n"
     ]
    }
   ],
   "source": [
    "class Animal:\n",
    "    def __init__(self, name):    # Constructor of the class\n",
    "        self.name = name\n",
    "    def talk(self):              # Abstract method, defined by convention only\n",
    "        raise NotImplementedError(\"Subclass must implement abstract method\")\n",
    "\n",
    "class Cat(Animal):\n",
    "    def talk(self):\n",
    "        return 'Meow!'\n",
    "\n",
    "class Dog(Animal):\n",
    "    def talk(self):\n",
    "        return 'Woof! Woof!'\n",
    "\n",
    "animals = [Cat('Kitty'),\n",
    "           Cat('Puss'),\n",
    "           Dog('Spot')]\n",
    "\n",
    "for animal in animals:\n",
    "    print (animal.name + ': ' + animal.talk())"
   ]
  },
  {
   "cell_type": "markdown",
   "metadata": {},
   "source": [
    "# Recursive Function"
   ]
  },
  {
   "cell_type": "markdown",
   "metadata": {},
   "source": [
    "A function calling itself.\n",
    "Properties of recursion\n",
    "1.  A base case\n",
    "2.  A recursive case\n",
    "3.  A recursive solution must make progress toward the base case\n",
    "\n",
    "E.g. Factorials n! = n * (n-1) * (n-2) * .... * 1"
   ]
  },
  {
   "cell_type": "code",
   "execution_count": 2,
   "metadata": {},
   "outputs": [],
   "source": [
    "def fact(n):\n",
    "     assert n >= 0, \"Factorial not defined for negative values\"  # assertion condition\n",
    "     if n < 2:\n",
    "        return 1\n",
    "     else:\n",
    "        return n * fact(n -1)"
   ]
  },
  {
   "cell_type": "code",
   "execution_count": 3,
   "metadata": {},
   "outputs": [
    {
     "name": "stdout",
     "output_type": "stream",
     "text": [
      "1\n",
      "2\n",
      "6\n",
      "24\n",
      "1\n"
     ]
    }
   ],
   "source": [
    "print (fact(1))\n",
    "print (fact(2))\n",
    "print (fact(3))\n",
    "print (fact(4))\n",
    "print(fact(0))\n",
    "# print(fact(-5))"
   ]
  },
  {
   "cell_type": "code",
   "execution_count": null,
   "metadata": {},
   "outputs": [],
   "source": []
  }
 ],
 "metadata": {
  "kernelspec": {
   "display_name": "Python 3",
   "language": "python",
   "name": "python3"
  },
  "language_info": {
   "codemirror_mode": {
    "name": "ipython",
    "version": 3
   },
   "file_extension": ".py",
   "mimetype": "text/x-python",
   "name": "python",
   "nbconvert_exporter": "python",
   "pygments_lexer": "ipython3",
   "version": "3.7.3"
  }
 },
 "nbformat": 4,
 "nbformat_minor": 2
}
