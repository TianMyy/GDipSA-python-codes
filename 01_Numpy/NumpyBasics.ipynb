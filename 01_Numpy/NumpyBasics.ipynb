{
 "cells": [
  {
   "cell_type": "markdown",
   "metadata": {},
   "source": [
    "# Numpy \n",
    "Numpy (stands for Numerical Python) is a general packages used for processing arrays.  \n",
    "It provides a high performance, multidimensional array object and tools to work with these arrays.  \n",
    "It is popular for scientific computing in Python."
   ]
  },
  {
   "cell_type": "code",
   "execution_count": 1,
   "metadata": {},
   "outputs": [],
   "source": [
    "# Numpy array is a grid of values, values are indexed via a set of nonnegative integers.  \n",
    "# Numpy arrays can be initiated from nested Python list.\n",
    "# Need to import numpy library\n",
    "# rank is the number of dimensions in the array\n",
    "\n",
    "import numpy as np"
   ]
  },
  {
   "cell_type": "code",
   "execution_count": 2,
   "metadata": {},
   "outputs": [],
   "source": [
    "x = np.array ([10,20,30])"
   ]
  },
  {
   "cell_type": "code",
   "execution_count": 3,
   "metadata": {},
   "outputs": [
    {
     "name": "stdout",
     "output_type": "stream",
     "text": [
      "<class 'numpy.ndarray'>\n"
     ]
    }
   ],
   "source": [
    "print(type(x))"
   ]
  },
  {
   "cell_type": "code",
   "execution_count": 4,
   "metadata": {},
   "outputs": [
    {
     "name": "stdout",
     "output_type": "stream",
     "text": [
      "(3,)\n"
     ]
    }
   ],
   "source": [
    "print(x.shape)  # size of the numpy array"
   ]
  },
  {
   "cell_type": "code",
   "execution_count": 5,
   "metadata": {},
   "outputs": [
    {
     "name": "stdout",
     "output_type": "stream",
     "text": [
      "10 20\n"
     ]
    }
   ],
   "source": [
    "print(x[0], x[1])  # accessing array elements with indexis"
   ]
  },
  {
   "cell_type": "code",
   "execution_count": 6,
   "metadata": {},
   "outputs": [],
   "source": [
    "x[0] = 40 # changing array element"
   ]
  },
  {
   "cell_type": "code",
   "execution_count": 7,
   "metadata": {},
   "outputs": [
    {
     "name": "stdout",
     "output_type": "stream",
     "text": [
      "[40 20 30]\n"
     ]
    }
   ],
   "source": [
    "print(x) "
   ]
  },
  {
   "cell_type": "code",
   "execution_count": 8,
   "metadata": {},
   "outputs": [],
   "source": [
    "y = np.array([[10,20,30], [40,50,60]])  # create an array of rank 2"
   ]
  },
  {
   "cell_type": "code",
   "execution_count": 9,
   "metadata": {},
   "outputs": [
    {
     "name": "stdout",
     "output_type": "stream",
     "text": [
      "(2, 3)\n"
     ]
    }
   ],
   "source": [
    "print(y.shape)  # returns number of elements in the array"
   ]
  },
  {
   "cell_type": "code",
   "execution_count": 10,
   "metadata": {},
   "outputs": [
    {
     "name": "stdout",
     "output_type": "stream",
     "text": [
      "10 20 60\n"
     ]
    }
   ],
   "source": [
    "print (y[0,0], y[0,1], y[1,2])"
   ]
  },
  {
   "cell_type": "code",
   "execution_count": 11,
   "metadata": {},
   "outputs": [
    {
     "name": "stdout",
     "output_type": "stream",
     "text": [
      "[[0. 0.]\n",
      " [0. 0.]]\n"
     ]
    }
   ],
   "source": [
    "x = np.zeros((2,2)) #create an array of zeros\n",
    "print(x)"
   ]
  },
  {
   "cell_type": "code",
   "execution_count": 12,
   "metadata": {},
   "outputs": [
    {
     "name": "stdout",
     "output_type": "stream",
     "text": [
      "[[1. 1.]]\n"
     ]
    }
   ],
   "source": [
    "y = np.ones((1,2))  # create an array of ones\n",
    "print(y)"
   ]
  },
  {
   "cell_type": "code",
   "execution_count": 13,
   "metadata": {},
   "outputs": [
    {
     "name": "stdout",
     "output_type": "stream",
     "text": [
      "[[7 7]\n",
      " [7 7]]\n"
     ]
    }
   ],
   "source": [
    "z = np.full((2,2), 7) # Return a array filled with the value 7\n",
    "print(z)"
   ]
  },
  {
   "cell_type": "code",
   "execution_count": 14,
   "metadata": {},
   "outputs": [
    {
     "name": "stdout",
     "output_type": "stream",
     "text": [
      "[[1. 0. 0.]\n",
      " [0. 1. 0.]\n",
      " [0. 0. 1.]]\n"
     ]
    }
   ],
   "source": [
    "a = np.eye(3) # create an identify matrix, 3X3\n",
    "print(a)"
   ]
  },
  {
   "cell_type": "code",
   "execution_count": 15,
   "metadata": {},
   "outputs": [
    {
     "name": "stdout",
     "output_type": "stream",
     "text": [
      "[[0.37543834 0.66625868]\n",
      " [0.37375879 0.12471752]]\n"
     ]
    }
   ],
   "source": [
    "b = np.random.random((2,2)) # create an array of random values\n",
    "print(b)"
   ]
  },
  {
   "cell_type": "code",
   "execution_count": 16,
   "metadata": {},
   "outputs": [
    {
     "name": "stdout",
     "output_type": "stream",
     "text": [
      "[[10 20 30 40]]\n"
     ]
    }
   ],
   "source": [
    "myarray = np.array([10,20,30,40], ndmin=2) #ndmin =2, minimum dimensions is 2\n",
    "print(myarray)"
   ]
  },
  {
   "cell_type": "code",
   "execution_count": 17,
   "metadata": {},
   "outputs": [],
   "source": [
    "x,y = np.loadtxt('data.txt', skiprows=1, unpack=True) #load dataset from text file,\n",
    "                                                    # skip the first row,\n",
    "                                                    # unpack = True retuns the columns as separate arrays\n",
    "    "
   ]
  },
  {
   "cell_type": "code",
   "execution_count": 18,
   "metadata": {},
   "outputs": [
    {
     "name": "stdout",
     "output_type": "stream",
     "text": [
      "[100. 200. 300. 400.]\n",
      "[200. 300. 400. 500.]\n"
     ]
    }
   ],
   "source": [
    "print(x)\n",
    "print(y)"
   ]
  },
  {
   "cell_type": "code",
   "execution_count": 19,
   "metadata": {},
   "outputs": [
    {
     "name": "stdout",
     "output_type": "stream",
     "text": [
      "[[ 100.  200.]\n",
      " [ 200. -999.]\n",
      " [ 300.  400.]\n",
      " [ 400.  500.]]\n"
     ]
    }
   ],
   "source": [
    "array2 = np.genfromtxt('data2.txt', skip_header=1,filling_values =-999) #missing value will be -999\n",
    "print(array2)\n",
    "\n",
    "# refer to the doc https://numpy.org/devdocs/user/basics.io.genfromtxt.html#filling-values\n"
   ]
  },
  {
   "cell_type": "code",
   "execution_count": 20,
   "metadata": {},
   "outputs": [
    {
     "name": "stdout",
     "output_type": "stream",
     "text": [
      "[0.1 2.6 5.1]\n"
     ]
    }
   ],
   "source": [
    "array1 = np.arange(start=0.1, stop=7.4, step=2.5) # create an array with starting value, increment value (step), and stop before value 10 is reached\n",
    "print(array1)\n",
    "\n",
    "# save data in text file\n",
    "np.savetxt('out_data.txt', array1, delimiter=',')\n"
   ]
  },
  {
   "cell_type": "code",
   "execution_count": 21,
   "metadata": {},
   "outputs": [
    {
     "name": "stdout",
     "output_type": "stream",
     "text": [
      "[[1. 1. 1.]\n",
      " [1. 1. 1.]]\n",
      "[[0.80481874 0.71785062 0.55408526]\n",
      " [0.75509667 0.61490964 0.10507662]]\n",
      "[[1.80481874 1.71785062 1.55408526]\n",
      " [1.75509667 1.61490964 1.10507662]]\n",
      "[[0.19518126 0.28214938 0.44591474]\n",
      " [0.24490333 0.38509036 0.89492338]]\n",
      "[[0.80481874 0.71785062 0.55408526]\n",
      " [0.75509667 0.61490964 0.10507662]]\n",
      "[[1.2425158  1.39304748 1.80477639]\n",
      " [1.32433375 1.6262552  9.51686536]]\n"
     ]
    }
   ],
   "source": [
    "a = np.ones ((2,3))\n",
    "print(a)\n",
    "\n",
    "b = np.random.random((2,3))\n",
    "print(b)\n",
    "\n",
    "print(a+b)\n",
    "\n",
    "print(a-b)\n",
    "\n",
    "print(a*b)\n",
    "\n",
    "print(a/b)\n"
   ]
  },
  {
   "cell_type": "code",
   "execution_count": 22,
   "metadata": {},
   "outputs": [
    {
     "name": "stdout",
     "output_type": "stream",
     "text": [
      "[[0 1 2]\n",
      " [3 4 5]]\n",
      "[3 4 5]\n",
      "2\n",
      "[1 4]\n",
      "[[0 3]\n",
      " [1 4]\n",
      " [2 5]]\n"
     ]
    }
   ],
   "source": [
    "x = np.array ([[0,1,2], [3,4,5]])\n",
    "print(x)\n",
    "print(x[1])  # all elements of index 1 (row 1)\n",
    "print(x[0][2])  # element at row 0, column 0\n",
    "print(x[0:2,1]) # element at row 0 and 1 (2-1), column 1\n",
    "print(np.transpose(x))  # transposing the array, which means switch around the array shape\n"
   ]
  },
  {
   "cell_type": "code",
   "execution_count": null,
   "metadata": {},
   "outputs": [],
   "source": []
  }
 ],
 "metadata": {
  "kernelspec": {
   "display_name": "Python 3",
   "language": "python",
   "name": "python3"
  },
  "language_info": {
   "codemirror_mode": {
    "name": "ipython",
    "version": 3
   },
   "file_extension": ".py",
   "mimetype": "text/x-python",
   "name": "python",
   "nbconvert_exporter": "python",
   "pygments_lexer": "ipython3",
   "version": "3.7.3"
  }
 },
 "nbformat": 4,
 "nbformat_minor": 2
}
